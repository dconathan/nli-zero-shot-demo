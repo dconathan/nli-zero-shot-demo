{
 "cells": [
  {
   "cell_type": "markdown",
   "id": "ecbe5d6e",
   "metadata": {},
   "source": [
    "# NLI for Zero Shot Classification Demo\n",
    "\n",
    "First load the model. In theory any model pretrained for an NLI task with `\"entailment\"` and `\"contradiction\"` labels will work.  Search [HuggingFace Hub](https://huggingface.co/models?sort=downloads&search=nli) for more."
   ]
  },
  {
   "cell_type": "code",
   "execution_count": 1,
   "id": "f1aacbaf",
   "metadata": {},
   "outputs": [],
   "source": [
    "from transformers import AutoModelForSequenceClassification, AutoTokenizer\n",
    "\n",
    "# load the model and tokenizer\n",
    "MODEL = \"cross-encoder/nli-distilroberta-base\"\n",
    "model = AutoModelForSequenceClassification.from_pretrained(MODEL)\n",
    "tokenizer = AutoTokenizer.from_pretrained(MODEL)\n",
    "\n",
    "# grab the \"entailment\" (positive) and \"contradiction\" (negative) ids\n",
    "# these correspond to the index of the logits in the model's output.\n",
    "pos_id = model.config.label2id[\"entailment\"]\n",
    "neg_id = model.config.label2id[\"contradiction\"]"
   ]
  },
  {
   "cell_type": "code",
   "execution_count": 2,
   "id": "079ff809",
   "metadata": {},
   "outputs": [],
   "source": [
    "def predict(context, candidates):\n",
    "    \"\"\"Given a context, print the score for each candidate answer\"\"\"\n",
    "    \n",
    "    for c in candidates:\n",
    "        \n",
    "        # tokenize context/candidate as a \"text pair\"\n",
    "        inputs = tokenizer(context, c, return_tensors=\"pt\")\n",
    "        \n",
    "        # run through the encoder/classifier model\n",
    "        output = model(**inputs)\n",
    "        \n",
    "        # output.logits have the outputs from the classification head\n",
    "        # take softmax over \"entailment\" and \"contradiction\" scores\n",
    "        # `score` is the resulting \"probability of entailment\"\n",
    "        score = output.logits[:,[pos_id, neg_id]].softmax(-1)[0][0]\n",
    "        print(f\"{c}: {score}\")\n"
   ]
  },
  {
   "cell_type": "code",
   "execution_count": 3,
   "id": "60c9221f",
   "metadata": {},
   "outputs": [
    {
     "name": "stdout",
     "output_type": "stream",
     "text": [
      "Theft: 0.16164545714855194\n",
      "Collision Damage: 0.379823237657547\n"
     ]
    }
   ],
   "source": [
    "predict(\"I backed up into a telephone pole.\", [\"Theft\", \"Collision Damage\"])"
   ]
  }
 ],
 "metadata": {
  "kernelspec": {
   "display_name": "Python 3 (ipykernel)",
   "language": "python",
   "name": "python3"
  },
  "language_info": {
   "codemirror_mode": {
    "name": "ipython",
    "version": 3
   },
   "file_extension": ".py",
   "mimetype": "text/x-python",
   "name": "python",
   "nbconvert_exporter": "python",
   "pygments_lexer": "ipython3",
   "version": "3.10.4"
  }
 },
 "nbformat": 4,
 "nbformat_minor": 5
}
